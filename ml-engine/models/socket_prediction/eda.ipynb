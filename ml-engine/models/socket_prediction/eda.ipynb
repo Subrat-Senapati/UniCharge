{
 "cells": [
  {
   "cell_type": "code",
   "execution_count": null,
   "id": "21ccdd27",
   "metadata": {},
   "outputs": [
    {
     "ename": "",
     "evalue": "",
     "output_type": "error",
     "traceback": [
      "\u001b[1;31mRunning cells with 'venv (Python 3.8.0)' requires the ipykernel package.\n",
      "\u001b[1;31m<a href='command:jupyter.createPythonEnvAndSelectController'>Create a Python Environment</a> with the required packages.\n",
      "\u001b[1;31mOr install 'ipykernel' using the command: 'conda install -n venv ipykernel --update-deps --force-reinstall'"
     ]
    }
   ],
   "source": [
    "import pandas as pd\n",
    "import numpy as np\n"
   ]
  },
  {
   "cell_type": "code",
   "execution_count": null,
   "id": "bb5c7cab",
   "metadata": {},
   "outputs": [],
   "source": [
    "data = pd.read_excel(\"ev_final.xlsx\")\n",
    "data.head()"
   ]
  },
  {
   "cell_type": "code",
   "execution_count": null,
   "id": "304be88a",
   "metadata": {},
   "outputs": [],
   "source": [
    "data.shape"
   ]
  },
  {
   "cell_type": "code",
   "execution_count": null,
   "id": "ea8cee18",
   "metadata": {},
   "outputs": [],
   "source": [
    "\n",
    "data.describe().T"
   ]
  },
  {
   "cell_type": "code",
   "execution_count": null,
   "id": "cfdc7f77",
   "metadata": {},
   "outputs": [],
   "source": [
    "data.isnull().sum()"
   ]
  },
  {
   "cell_type": "code",
   "execution_count": null,
   "id": "c14fb2dd",
   "metadata": {},
   "outputs": [],
   "source": [
    "new_data=data.drop(columns=[0])"
   ]
  },
  {
   "cell_type": "code",
   "execution_count": null,
   "id": "74a4f782",
   "metadata": {},
   "outputs": [],
   "source": [
    "new_data.sample(5)"
   ]
  },
  {
   "cell_type": "code",
   "execution_count": null,
   "id": "44d2943c",
   "metadata": {},
   "outputs": [],
   "source": [
    "new_data.isnull().sum()"
   ]
  },
  {
   "cell_type": "code",
   "execution_count": null,
   "id": "a03d0d44",
   "metadata": {},
   "outputs": [],
   "source": [
    "new_data['zone'].value_counts()\n",
    "new_data['zone'].fillna('Unknown', inplace=True)\n"
   ]
  },
  {
   "cell_type": "code",
   "execution_count": null,
   "id": "c8788e89",
   "metadata": {},
   "outputs": [],
   "source": [
    "new_data['available'].value_counts()\n",
    "new_data['available'].fillna(new_data['available'].mode()[0],inplace=True)"
   ]
  },
  {
   "cell_type": "code",
   "execution_count": null,
   "id": "9b1b9c95",
   "metadata": {},
   "outputs": [],
   "source": [
    "\n",
    "new_data.drop(columns=['uid','name','address','postal_code',],inplace=True)\n"
   ]
  },
  {
   "cell_type": "code",
   "execution_count": null,
   "id": "1726901a",
   "metadata": {},
   "outputs": [],
   "source": [
    "\n",
    "new_data.drop(columns=['logo_url'],inplace=True)\n"
   ]
  },
  {
   "cell_type": "code",
   "execution_count": null,
   "id": "0e1b01b0",
   "metadata": {},
   "outputs": [],
   "source": [
    "new_data.drop(columns=['payment_modes','staff'],inplace=True)\n"
   ]
  },
  {
   "cell_type": "code",
   "execution_count": null,
   "id": "967a6453",
   "metadata": {},
   "outputs": [],
   "source": [
    "india_data = new_data[(new_data['country'] == 'India') & (new_data['station_type'] == 'charging')]\n"
   ]
  },
  {
   "cell_type": "code",
   "execution_count": null,
   "id": "573f1c5a",
   "metadata": {},
   "outputs": [],
   "source": [
    "india_data.drop(columns=['country','contact_numbers','station_type'],inplace=True)"
   ]
  },
  {
   "cell_type": "code",
   "execution_count": null,
   "id": "78c579d2",
   "metadata": {},
   "outputs": [],
   "source": [
    "india_data.shape"
   ]
  },
  {
   "cell_type": "code",
   "execution_count": null,
   "id": "27031688",
   "metadata": {},
   "outputs": [],
   "source": [
    "india_data.isnull().sum()"
   ]
  },
  {
   "cell_type": "code",
   "execution_count": null,
   "id": "6d0da0ff",
   "metadata": {},
   "outputs": [],
   "source": [
    "india_data['capacity_num']=india_data['capacity'].str.extract(r'(\\d+\\.?\\d*)')"
   ]
  },
  {
   "cell_type": "code",
   "execution_count": null,
   "id": "809645aa",
   "metadata": {},
   "outputs": [],
   "source": [
    "india_data.drop(columns=['capacity'],inplace=True)"
   ]
  },
  {
   "cell_type": "code",
   "execution_count": null,
   "id": "cecfb041",
   "metadata": {},
   "outputs": [],
   "source": [
    "india_data['capacity_num']=pd.to_numeric(india_data['capacity_num'],errors='coerce',downcast='integer')"
   ]
  },
  {
   "cell_type": "code",
   "execution_count": null,
   "id": "0086c84a",
   "metadata": {},
   "outputs": [],
   "source": [
    "india_data['capacity_num'].describe()"
   ]
  },
  {
   "cell_type": "code",
   "execution_count": null,
   "id": "16d28897",
   "metadata": {},
   "outputs": [],
   "source": [
    "india_data['capacity_num'].value_counts().get(142, 0)\n"
   ]
  },
  {
   "cell_type": "code",
   "execution_count": null,
   "id": "939d1ca0",
   "metadata": {},
   "outputs": [],
   "source": [
    "import seaborn as sns\n",
    "import matplotlib.pyplot as plt\n",
    "sns.boxplot(y=india_data['capacity_num'])\n",
    "plt.show()"
   ]
  },
  {
   "cell_type": "code",
   "execution_count": null,
   "id": "6d7fc094",
   "metadata": {},
   "outputs": [],
   "source": [
    "india_data"
   ]
  },
  {
   "cell_type": "code",
   "execution_count": null,
   "id": "24ade6cf",
   "metadata": {},
   "outputs": [],
   "source": [
    "india_data['cpu_num']=india_data['cost_per_unit'].str.extract(r'(\\d+\\.?\\d*)')"
   ]
  },
  {
   "cell_type": "code",
   "execution_count": null,
   "id": "4a7dac94",
   "metadata": {},
   "outputs": [],
   "source": [
    "india_data.drop(columns=['cost_per_unit'],inplace=True)"
   ]
  },
  {
   "cell_type": "code",
   "execution_count": null,
   "id": "88be3eb0",
   "metadata": {},
   "outputs": [],
   "source": [
    "india_data"
   ]
  },
  {
   "cell_type": "code",
   "execution_count": null,
   "id": "ee730e62",
   "metadata": {},
   "outputs": [],
   "source": [
    "india_data['cpu_num']=pd.to_numeric(india_data['cpu_num'],errors='coerce',downcast='integer')"
   ]
  },
  {
   "cell_type": "code",
   "execution_count": null,
   "id": "f3740eb4",
   "metadata": {},
   "outputs": [],
   "source": [
    "india_data['cpu_num'].fillna(6, inplace=True)"
   ]
  },
  {
   "cell_type": "code",
   "execution_count": null,
   "id": "4e25fde5",
   "metadata": {},
   "outputs": [],
   "source": [
    "india_data"
   ]
  },
  {
   "cell_type": "code",
   "execution_count": null,
   "id": "5d43af06",
   "metadata": {},
   "outputs": [],
   "source": [
    "(india_data['cpu_num']==0).sum()"
   ]
  },
  {
   "cell_type": "code",
   "execution_count": null,
   "id": "497b3123",
   "metadata": {},
   "outputs": [],
   "source": [
    "india_data['cpu_num'] = india_data['cpu_num'].replace(0, 6)"
   ]
  },
  {
   "cell_type": "code",
   "execution_count": null,
   "id": "7b314e93",
   "metadata": {},
   "outputs": [],
   "source": [
    "india_data.info()"
   ]
  }
 ],
 "metadata": {
  "kernelspec": {
   "display_name": "venv",
   "language": "python",
   "name": "python3"
  },
  "language_info": {
   "codemirror_mode": {
    "name": "ipython",
    "version": 3
   },
   "file_extension": ".py",
   "mimetype": "text/x-python",
   "name": "python",
   "nbconvert_exporter": "python",
   "pygments_lexer": "ipython3",
   "version": "3.8.0"
  }
 },
 "nbformat": 4,
 "nbformat_minor": 5
}

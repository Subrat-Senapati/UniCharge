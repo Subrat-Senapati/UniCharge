{
 "cells": [
  {
   "cell_type": "code",
   "execution_count": 2,
   "id": "2a6544ca",
   "metadata": {},
   "outputs": [],
   "source": [
    "import pandas as pd"
   ]
  },
  {
   "cell_type": "code",
   "execution_count": 3,
   "id": "d0b167ea",
   "metadata": {},
   "outputs": [
    {
     "name": "stdout",
     "output_type": "stream",
     "text": [
      "    latitude  longitude  available  capacity  total  capacity_num   cpu_num  \\\n",
      "0  28.568238  77.219666        0.0      15.0    2.0          15.0  4.126608   \n",
      "1  28.541995  77.260583        0.0       3.0    3.0           3.3  4.126608   \n",
      "2  28.571189  77.259806        0.0      15.0    2.0          15.0  4.126608   \n",
      "3  28.588991  77.253240        0.0      15.0    4.0          15.0  4.126608   \n",
      "4  28.549427  77.254636        0.0      15.0    1.0          15.0  4.126608   \n",
      "\n",
      "   supports_4w  supports_2w  n_vehicle_types  ...  vendor_name_Powerbank  \\\n",
      "0         True        False                1  ...                  False   \n",
      "1         True         True                3  ...                  False   \n",
      "2         True        False                1  ...                  False   \n",
      "3         True        False                1  ...                  False   \n",
      "4         True        False                1  ...                  False   \n",
      "\n",
      "   vendor_name_Pvt. Ltd.  vendor_name_REIL  vendor_name_REVOS  \\\n",
      "0                  False             False              False   \n",
      "1                  False              True              False   \n",
      "2                  False              True              False   \n",
      "3                  False              True              False   \n",
      "4                  False             False              False   \n",
      "\n",
      "   vendor_name_Smart E  vendor_name_Sun Mobility  vendor_name_TPDDL  \\\n",
      "0                False                     False              False   \n",
      "1                False                     False              False   \n",
      "2                False                     False              False   \n",
      "3                False                     False              False   \n",
      "4                False                     False              False   \n",
      "\n",
      "   vendor_name_Verdemobility  station_type_charging  power_type_DC  \n",
      "0                      False                   True           True  \n",
      "1                      False                   True          False  \n",
      "2                      False                   True           True  \n",
      "3                      False                   True           True  \n",
      "4                      False                   True           True  \n",
      "\n",
      "[5 rows x 32 columns]\n",
      "<class 'pandas.core.frame.DataFrame'>\n",
      "RangeIndex: 2705 entries, 0 to 2704\n",
      "Data columns (total 32 columns):\n",
      " #   Column                              Non-Null Count  Dtype  \n",
      "---  ------                              --------------  -----  \n",
      " 0   latitude                            2705 non-null   float64\n",
      " 1   longitude                           2705 non-null   float64\n",
      " 2   available                           2705 non-null   float64\n",
      " 3   capacity                            2705 non-null   float64\n",
      " 4   total                               2705 non-null   float64\n",
      " 5   capacity_num                        2705 non-null   float64\n",
      " 6   cpu_num                             2705 non-null   float64\n",
      " 7   supports_4w                         2705 non-null   bool   \n",
      " 8   supports_2w                         2705 non-null   bool   \n",
      " 9   n_vehicle_types                     2705 non-null   int64  \n",
      " 10  vendor_name_BSES                    2705 non-null   bool   \n",
      " 11  vendor_name_BatterySmart            2705 non-null   bool   \n",
      " 12  vendor_name_BluSmart                2705 non-null   bool   \n",
      " 13  vendor_name_E-Fill Electric         2705 non-null   bool   \n",
      " 14  vendor_name_EEE                     2705 non-null   bool   \n",
      " 15  vendor_name_EESL                    2705 non-null   bool   \n",
      " 16  vendor_name_ElectriVa               2705 non-null   bool   \n",
      " 17  vendor_name_GensolCharge Pvt. Ltd.  2705 non-null   bool   \n",
      " 18  vendor_name_HPCL                    2705 non-null   bool   \n",
      " 19  vendor_name_JBM Renewables          2705 non-null   bool   \n",
      " 20  vendor_name_Jio-bp                  2705 non-null   bool   \n",
      " 21  vendor_name_PlugNgo                 2705 non-null   bool   \n",
      " 22  vendor_name_Powerbank               2705 non-null   bool   \n",
      " 23  vendor_name_Pvt. Ltd.               2705 non-null   bool   \n",
      " 24  vendor_name_REIL                    2705 non-null   bool   \n",
      " 25  vendor_name_REVOS                   2705 non-null   bool   \n",
      " 26  vendor_name_Smart E                 2705 non-null   bool   \n",
      " 27  vendor_name_Sun Mobility            2705 non-null   bool   \n",
      " 28  vendor_name_TPDDL                   2705 non-null   bool   \n",
      " 29  vendor_name_Verdemobility           2705 non-null   bool   \n",
      " 30  station_type_charging               2705 non-null   bool   \n",
      " 31  power_type_DC                       2705 non-null   bool   \n",
      "dtypes: bool(24), float64(7), int64(1)\n",
      "memory usage: 232.6 KB\n",
      "None\n"
     ]
    }
   ],
   "source": [
    "# Load the cleaned dataset from the 'data' directory\n",
    "data = pd.read_csv('../data/cleaned_data.csv')\n",
    "\n",
    "# Display the first few rows to confirm it loaded correctly\n",
    "print(data.head())\n",
    "\n",
    "# Get the list of columns to verify the cleaning\n",
    "print(data.info())"
   ]
  }
 ],
 "metadata": {
  "kernelspec": {
   "display_name": "Python 3",
   "language": "python",
   "name": "python3"
  },
  "language_info": {
   "codemirror_mode": {
    "name": "ipython",
    "version": 3
   },
   "file_extension": ".py",
   "mimetype": "text/x-python",
   "name": "python",
   "nbconvert_exporter": "python",
   "pygments_lexer": "ipython3",
   "version": "3.11.9"
  }
 },
 "nbformat": 4,
 "nbformat_minor": 5
}

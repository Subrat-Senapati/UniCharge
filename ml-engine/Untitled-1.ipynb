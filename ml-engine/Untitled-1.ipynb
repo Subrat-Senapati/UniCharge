{
 "cells": [
  {
   "cell_type": "code",
   "execution_count": null,
   "id": "21ccdd27",
   "metadata": {},
   "outputs": [],
   "source": [
    "import pandas as pd\n",
    "data = pd.read_csv(\"C:\\Users\\user\\Desktop\\ML WORKSHOP\\UniCharge\\ml-engine\\ev_final.xlsx\")"
   ]
  }
 ],
 "metadata": {
  "kernelspec": {
   "display_name": "Python 3",
   "language": "python",
   "name": "python3"
  },
  "language_info": {
   "name": "python",
   "version": "3.11.9"
  }
 },
 "nbformat": 4,
 "nbformat_minor": 5
}
